{
 "cells": [
  {
   "cell_type": "markdown",
   "metadata": {
    "id": "ISqMLbu477gJ"
   },
   "source": [
    "# Install Julia Kernel\n",
    "\n",
    "---\n",
    "\n"
   ]
  },
  {
   "cell_type": "code",
   "execution_count": null,
   "metadata": {
    "id": "GIeFXS0F0zww"
   },
   "outputs": [],
   "source": [
    "%%shell\n",
    "set -e\n",
    "\n",
    "#---------------------------------------------------#\n",
    "JULIA_VERSION=\"1.9.3\" # any version ≥ 0.7.0\n",
    "JULIA_PACKAGES=\"IJulia BenchmarkTools\"\n",
    "JULIA_PACKAGES_IF_GPU=\"CUDA\" # or CuArrays for older Julia versions\n",
    "JULIA_NUM_THREADS=2\n",
    "#---------------------------------------------------#\n",
    "\n",
    "if [ -z `which julia` ]; then\n",
    "  # Install Julia\n",
    "  JULIA_VER=`cut -d '.' -f -2 <<< \"$JULIA_VERSION\"`\n",
    "  echo \"Installing Julia $JULIA_VERSION on the current Colab Runtime...\"\n",
    "  BASE_URL=\"https://julialang-s3.julialang.org/bin/linux/x64\"\n",
    "  URL=\"$BASE_URL/$JULIA_VER/julia-$JULIA_VERSION-linux-x86_64.tar.gz\"\n",
    "  wget -nv $URL -O /tmp/julia.tar.gz # -nv means \"not verbose\"\n",
    "  tar -x -f /tmp/julia.tar.gz -C /usr/local --strip-components 1\n",
    "  rm /tmp/julia.tar.gz\n",
    "\n",
    "  # Install Packages\n",
    "  nvidia-smi -L &> /dev/null && export GPU=1 || export GPU=0\n",
    "  if [ $GPU -eq 1 ]; then\n",
    "    JULIA_PACKAGES=\"$JULIA_PACKAGES $JULIA_PACKAGES_IF_GPU\"\n",
    "  fi\n",
    "  for PKG in `echo $JULIA_PACKAGES`; do\n",
    "    echo \"Installing Julia package $PKG...\"\n",
    "    julia -e 'using Pkg; pkg\"add '$PKG'; precompile;\"' &> /dev/null\n",
    "  done\n",
    "\n",
    "  # Install kernel and rename it to \"julia\"\n",
    "  echo \"Installing IJulia kernel...\"\n",
    "  julia -e 'using IJulia; IJulia.installkernel(\"julia\", env=Dict(\n",
    "      \"JULIA_NUM_THREADS\"=>\"'\"$JULIA_NUM_THREADS\"'\"))'\n",
    "  KERNEL_DIR=`julia -e \"using IJulia; print(IJulia.kerneldir())\"`\n",
    "  KERNEL_NAME=`ls -d \"$KERNEL_DIR\"/julia*`\n",
    "  mv -f $KERNEL_NAME \"$KERNEL_DIR\"/julia\n",
    "\n",
    "  echo ''\n",
    "  echo \"Successfully installed `julia -v`!\"\n",
    "  echo \"Please reload this page (press Ctrl+R, ⌘+R, or the F5 key) then\"\n",
    "  echo \"jump to the 'Checking the Installation' section.\"\n",
    "fi"
   ]
  },
  {
   "cell_type": "markdown",
   "metadata": {
    "id": "1CNfi7ui5tb6"
   },
   "source": [
    "# Methods\n",
    "\n",
    "---\n",
    "\n",
    "\n",
    "\n",
    "The concept of multiple dispatch is something we use frequently but never really stop to contemplate.  Julia surfaces multiple dispatch in a concrete and easy fashion compared to operator overloading or templating."
   ]
  },
  {
   "cell_type": "code",
   "execution_count": null,
   "metadata": {
    "id": "0wn3pbbsM0KE"
   },
   "outputs": [],
   "source": [
    "f(a::Int64, b::Int64) = a + b\n",
    "\n",
    "f(a::Float64, b::Float64) = a * b\n",
    "\n",
    "f(a::Number, b::Number) = 2 * (a + b)\n",
    "\n",
    "println(f(2 , 3))\n",
    "println(f(2.0, 3.0))\n",
    "println(f(2, 3.0))\n",
    "\n",
    "methods(f)"
   ]
  },
  {
   "cell_type": "code",
   "execution_count": null,
   "metadata": {
    "id": "hzikskwpzCOP"
   },
   "outputs": [],
   "source": [
    "methods(+)"
   ]
  },
  {
   "cell_type": "markdown",
   "metadata": {
    "id": "lYAZvpg16nFR"
   },
   "source": [
    "# Linear Regression - Julia\n"
   ]
  },
  {
   "cell_type": "code",
   "execution_count": null,
   "metadata": {
    "id": "OjKm70YO6lNu"
   },
   "outputs": [],
   "source": [
    "import Pkg\n",
    "Pkg.add(\"Plots\")\n",
    "Pkg.add(\"GLM\")\n",
    "Pkg.add(\"DataFrames\")\n",
    "using DataFrames\n",
    "using BenchmarkTools\n",
    "using GLM\n",
    "using Plots\n",
    "\n",
    "# perform the ordinary least squares fits\n",
    "data1 = DataFrame(X1=collect(0:100), Y1=rand(0:100,101))\n",
    "data2 = DataFrame(X2=collect(0:1000), Y2=rand(0:100,1001))\n",
    "data3 = DataFrame(X3=collect(0:10000), Y3=rand(0:100,10001))\n",
    "data4 = DataFrame(X4=collect(0:100000), Y4=rand(0:100,100001))\n",
    "\n",
    "ols1 = @btime lm(@formula(Y1 ~ X1), data1)\n",
    "ols2 = @btime lm(@formula(Y2 ~ X2), data2)\n",
    "ols3 = @btime lm(@formula(Y3 ~ X3), data3)\n",
    "ols4 = @btime lm(@formula(Y4 ~ X4), data4)\n",
    "\n",
    "# plot the points\n",
    "plot(X1, Y1, linewidth=2, title=\"X vs Y\", label=[\"Y\"], xlabel=\"X\", ylabel=\"Y\")\n",
    "\n",
    "# display the coefficients\n",
    "println(coef(ols1))\n",
    "\n",
    "Yp = predict(ols1); #load predictions into Yp\n",
    "Yn = Base.hcat(Y1,Yp) #concatenating Y and Yp arrays into a new one called 'Y2' so that we can plot both, below\n",
    "plot(X1, Yn, linewidth=2, title=\"X vs Y\", label=[\"Y\", \"Yp\"], xlabel=\"X\", ylabel=\"Y\")"
   ]
  },
  {
   "cell_type": "markdown",
   "metadata": {
    "id": "pvRN36VNB4c_"
   },
   "source": [
    "# Linear Regression - Python"
   ]
  },
  {
   "cell_type": "code",
   "execution_count": null,
   "metadata": {
    "id": "9qK9Mq5SLkVk"
   },
   "outputs": [],
   "source": [
    "\n",
    "import statsmodels.api as sm\n",
    "import numpy as np\n",
    "import time\n",
    "\n",
    "# defining the variables\n",
    "x1 = list(range(101))\n",
    "x2 = list(range(1001))\n",
    "x3 = list(range(10001))\n",
    "x4 = list(range(100001))\n",
    "y1 = np.random.uniform(low=0, high=100, size=(101,))\n",
    "y2 = np.random.uniform(low=0, high=100, size=(1001,))\n",
    "y3 = np.random.uniform(low=0, high=100, size=(10001,))\n",
    "y4 = np.random.uniform(low=0, high=100, size=(100001,))\n",
    "\n",
    "# performing the regression\n",
    "# and fitting the model\n",
    "starttime = time.perf_counter()\n",
    "result = sm.OLS(y1, x1).fit()\n",
    "endtime = time.perf_counter()\n",
    "elapsed = endtime - starttime\n",
    "print(f'Time taken: {elapsed/10E-6} microseconds')\n",
    "\n",
    "starttime = time.perf_counter()\n",
    "result = sm.OLS(y2, x2).fit()\n",
    "endtime = time.perf_counter()\n",
    "elapsed = endtime - starttime\n",
    "print(f'Time taken: {elapsed/10E-6} microseconds')\n",
    "\n",
    "starttime = time.perf_counter()\n",
    "result = sm.OLS(y3, x3).fit()\n",
    "endtime = time.perf_counter()\n",
    "elapsed = endtime - starttime\n",
    "print(f'Time taken: {elapsed/10E-6} microseconds')\n",
    "\n",
    "starttime = time.perf_counter()\n",
    "result = sm.OLS(y4, x4).fit()\n",
    "endtime = time.perf_counter()\n",
    "elapsed = endtime - starttime\n",
    "print(f'Time taken: {elapsed/10E-6} microseconds')\n",
    "\n",
    "# printing the summary table\n",
    "print(result.summary())\n"
   ]
  }
 ],
 "metadata": {
  "colab": {
   "provenance": []
  },
  "kernelspec": {
   "display_name": "Python 3",
   "language": "python",
   "name": "python3"
  },
  "language_info": {
   "codemirror_mode": {
    "name": "ipython",
    "version": 3
   },
   "file_extension": ".py",
   "mimetype": "text/x-python",
   "name": "python",
   "nbconvert_exporter": "python",
   "pygments_lexer": "ipython3",
   "version": "3.8.8"
  }
 },
 "nbformat": 4,
 "nbformat_minor": 1
}
